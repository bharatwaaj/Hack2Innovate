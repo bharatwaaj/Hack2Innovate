{
 "cells": [
  {
   "cell_type": "code",
   "execution_count": null,
   "metadata": {},
   "outputs": [],
   "source": [
    "import csv\n",
    "import time\n",
    "import requests\n",
    "from bs4 import BeautifulSoup\n",
    "from pattern.en import ngrams\n",
    "\n",
    "Base_url = \"http://www.moneycontrol.com\"\n",
    "\n",
    "# Build a dictionary of companies and their abbreviated names \n",
    "companies = {'cadilahealthcare':'CHC','piramalenterprises':'PH05',\n",
    "             'glenmarkpharma':'GP08','glaxosmithklinepharmaceuticals':'GSK',\n",
    "             'sunpharmaceuticalindustries':'SPI','lupinlaboratories':'LLa',\n",
    "             'cipla':'C','aurobindopharma':'AP',\n",
    "             'drreddyslaboratories':'DRL','divislaboratories':'DL03'}\n",
    "             \n",
    "# Create a list of the news section urls of the respective companies \n",
    "url_list = ['http://www.moneycontrol.com/company-article/{}/news/{}#{}'.format(k,v,v) for k,v in companies.iteritems()]\n",
    "print url_list"
   ]
  },
  {
   "cell_type": "code",
   "execution_count": 4,
   "metadata": {
    "collapsed": true
   },
   "outputs": [],
   "source": [
    "# Create an empty list which will contain the selected news articles \n",
    "List_of_links = []   \n",
    "\n",
    "# Extract the relevant news articles weblinks from the news section of selected companies\n",
    "for urls in url_list:\n",
    "   html = requests.get(urls)\n",
    "   soup = BeautifulSoup(html.text,'html.parser') # Create a BeautifulSoup object \n",
    "\n",
    "   # Retrieve a list of all the links and the titles for the respective links\n",
    "   word1,word2,word3 = \"US\",\"USA\",\"USFDA\"\n",
    " \n",
    "   sub_links = soup.find_all('a', class_='arial11_summ')\n",
    "   for links in sub_links:\n",
    "      sp = BeautifulSoup(str(links),'html.parser')  # first convert into a string\n",
    "      tag = sp.a\n",
    "      if word1 in tag['title'] or word2 in tag['title'] or word3 in tag['title']:\n",
    "          category_links = Base_url + tag[\"href\"]\n",
    "          List_of_links.append(category_links)\n",
    "          time.sleep(3)\n",
    "          \n",
    "# Print the select list of news articles weblinks    \n",
    "#for p in List_of_links: print p"
   ]
  },
  {
   "cell_type": "code",
   "execution_count": 7,
   "metadata": {},
   "outputs": [
    {
     "name": "stdout",
     "output_type": "stream",
     "text": [
      "http://www.moneycontrol.com/news/business/divis-surgesliftingimport-ban-by-us-fda-stockfor-major-upgrade-by-analysts_9969781.html\n",
      "http://www.moneycontrol.com/news/business/dr-reddy39s-laboratories-recalls-famotidine-tabletsus-market_9895021.html\n",
      "http://www.moneycontrol.com/news/announcements/sun-pharmaceutical-industries-gets-usfda-approval-for-generic-coreg-cr_9922761.html\n",
      "http://www.moneycontrol.com/news/buzzing-stocks/sun-pharma-gains-4eirusfda-for-dadra-facility_9854941.html\n",
      "http://www.moneycontrol.com/news/announcements/zydus-receives-final-approvalusfda-for-desvenlafaxine-extended-release-tablets_9856521.html\n",
      "http://www.moneycontrol.com/news/business/zydus39-nesher-pharma-gets-usfda-nod-for-adhd-tablets_9971581.html\n",
      "http://www.moneycontrol.com/news/buzzing-stocks/dr-reddy39s-lab-rises-4launchkidney-drugus-market_9800301.html\n",
      "http://www.moneycontrol.com/news/buzzing-stocks/cadila-healthcare-gains-2usfda-nod-for-desvenlafaxine-tablets_9856761.html\n",
      "http://www.moneycontrol.com/news/buzzing-stocks/cadila-healthcare1usfda-final-approval-for-allopurinol-tablets_9873221.html\n",
      "http://www.moneycontrol.com/news/stocks-views/drl-launches-renvela-genericus-price-target-at-rs-2200-hdfc-securities_9800101.html\n",
      "http://www.moneycontrol.com/news/buzzing-stocks/cadila-healthcare-falls-6-as-credit-suisse-downgrades-after-teva-gets-usfda-nod-for-lialda_10024441.html\n",
      "http://www.moneycontrol.com/news/buzzing-stocks/cadila-healthcare-gains-1usfda-nod-to-market-breast-cancer-drug_9939681.html\n",
      "http://www.moneycontrol.com/news/announcements/zydus-receives-final-approvalusfda-for-allopurinol-tablets-usp_9869841.html\n",
      "http://www.moneycontrol.com/news/announcements/zydus39-nesher-pharmaceuticals-gets-usfda-final-approval_9970361.html\n",
      "http://www.moneycontrol.com/news/business/glenmark-gets-usfda-nod-for-aprepitant-capsules_9873821.html\n",
      "http://www.moneycontrol.com/news/buzzing-stocks/cipla2usfda-approval-for-sevelamer-carbonate-tablets_9928901.html\n",
      "http://www.moneycontrol.com/news/buzzing-stocks/aurobindo-pharma-rises-2usfda-final-nod-for-esomeprazole-capsules_9881361.html\n",
      "http://www.moneycontrol.com/news/buzzing-stocks/cadila-healthcare-shares-gain-4usfda-approval-for-adhd-drug_9971501.html\n",
      "http://www.moneycontrol.com/news/buzzing-stocks/aurobindo-pharma-gains-4usfda-nod_9968601.html\n",
      "http://www.moneycontrol.com/news/business/us-states-look-to-widen-price-fixing-probe-into-dr-reddyâs-sun-pharmaothers_9973101.html\n",
      "http://www.moneycontrol.com/news/buzzing-stocks/pharma-stocks-rally-1-4-after-divis-labs-says-usfda-to-lift-import-alert-for-unit-2_9970321.html\n",
      "http://www.moneycontrol.com/news/buzzing-stocks/glenmark-pharma-rises-1usfda-nod-for-aprepitant-capsules_9873281.html\n",
      "http://www.moneycontrol.com/news/business/will-continue-to-pursue-inorganic-growthindiaus-torrent-pharma_10007901.html\n",
      "http://www.moneycontrol.com/news/announcements/zydus-receives-final-approvalusfda-for-amitriptyline-hydrochloride-tablets-usp_9832321.html\n",
      "http://www.moneycontrol.com/news/business/aurobindo-pharma-gets-usfda-nod-for-heartburn-drug_9882041.html\n",
      "http://www.moneycontrol.com/news/results/dr-reddy39s-labs-q2-profit-falls-3lower-us-biz-operating-income-beats-estimates_9948781.html\n",
      "http://www.moneycontrol.com/news/business/zydus-gets-usfda-nod-for-overactive-bladder-drug_9817521.html\n",
      "http://www.moneycontrol.com/news/buzzing-stocks/cadila-healthcare-rises-1usfda-nod-for-amitriptyline-hydrochloride-tablets_9833261.html\n",
      "http://www.moneycontrol.com/news/announcements/usfda-to-lift-import-alert-for-divis-laboratories39-visakhapatnam-unit_9968001.html\n",
      "http://www.moneycontrol.com/news/result-poll/dr-reddys-labs-q2-profit-seen-down-9continued-pricing-pressureus_9945461.html\n",
      "http://www.moneycontrol.com/news/business/usfda-withdraws-warning-letter-to-divi39s-laboratories-unit_10031621.html\n",
      "http://www.moneycontrol.com/news/business/lupin-gets-usfda-approval-for-testosterone-topical-solution_9913381.html\n",
      "http://www.moneycontrol.com/news/business/us-states-to-expand-generic-drug-price-fixing-suit-sources_9955961.html\n",
      "http://www.moneycontrol.com/news/business/drl-sun-pharma-glenmark-among-18-under-us-lensprice-fixing-complaint_9971721.html\n",
      "http://www.moneycontrol.com/news/announcements/zydus-receives-final-approvalusfda-for-clobetasol-propionate-ointment-usp_9941641.html\n",
      "http://www.moneycontrol.com/news/announcements/zydus-receives-final-approvalusfda-for-doxycycline-hyclate-tablets-usp_9950841.html\n",
      "http://www.moneycontrol.com/news/business/sun-pharma-gets-usfda-nod-for-generic-cardiac-drug_9923561.html\n",
      "http://www.moneycontrol.com/news/announcements/aurobindo-pharma-receives-usfda-approval-for-esomeprazole-magnesium-dr-capsules-otc_9881221.html\n",
      "http://www.moneycontrol.com/news/business/cipla-gets-usfda-nod-for-generic-versionrenvela-tablets_9929321.html\n",
      "http://www.moneycontrol.com/news/buzzing-stocks/divis-laboratories-surges-19lifting-import-alert-by-usfda_9968381.html\n",
      "[]\n"
     ]
    }
   ],
   "source": [
    "# Remove the duplicate news articles based on News Title\n",
    "unique_links = list(set(List_of_links))\n",
    "for q in unique_links: print q\n",
    "\n",
    "# Create a dictionary of positive/negative words related to the Pharma Sector\n",
    "reader = csv.reader(open('dict.csv', 'r'))\n",
    "pharma_dict = dict((rows[0],rows[1]) for rows in reader)\n",
    "\n",
    "# Creating an empty list which will be filled later with news article links, and Polarity values (pos/neg)\n",
    "df =[]\n",
    "print df"
   ]
  },
  {
   "cell_type": "code",
   "execution_count": 18,
   "metadata": {},
   "outputs": [
    {
     "name": "stdout",
     "output_type": "stream",
     "text": [
      "Not found\n",
      "1\n"
     ]
    }
   ],
   "source": [
    "# Open the choosen news articles and extract the main text  \n",
    "\n",
    "for selected_links in unique_links:\n",
    "    results_url = selected_links \n",
    "       \n",
    "#     print results_url\n",
    "    results = requests.get(results_url)\n",
    "    results_text = BeautifulSoup(results.text)\n",
    "    extract_text = results_text.find(class_='arti-flow')\n",
    "    try :\n",
    "        final_text = extract_text.get_text()\n",
    "    except AttributeError:\n",
    "        print \"Not found\"\n",
    "        \n",
    "print(count)        "
   ]
  },
  {
   "cell_type": "code",
   "execution_count": 19,
   "metadata": {
    "collapsed": true
   },
   "outputs": [],
   "source": [
    "# Pre-processing the extracted text using ngrams function from the pattern package   \n",
    "final_text1 = ngrams(final_text, n=1, punctuation=\".,;:!?()[]{}`''\\\"@#$^&*+-|=~_\", continuous=False)\n",
    "   #print final_text1"
   ]
  },
  {
   "cell_type": "code",
   "execution_count": 20,
   "metadata": {
    "collapsed": true
   },
   "outputs": [],
   "source": [
    "  # Checking if any of the words in the news article text matches with the words in the Pharma dictionary(pos/neg)\n",
    "new_dict = {}\n",
    "positive_score,negative_score = 0,0\n",
    "   \n",
    "for x in final_text1:\n",
    "    if pharma_dict.has_key(x[0]):\n",
    "        new_dict[x[0]] = pharma_dict[x[0]] \n",
    "                  \n",
    "positive_list = [] ; negative_list = [];\n",
    "for key, value in new_dict.items():\n",
    "    if value == 'positive': positive_list.append(key)\n",
    "    if value == 'negative': negative_list.append(key)\n",
    "                           \n",
    "# Compute the positive score, the negative score for each news articles\n",
    "positive_score = len(positive_list) ; negative_score = len(negative_list);\n",
    "#print positive_list ; print negative_list ;\n",
    "#print positive_score ; print negative_score;"
   ]
  },
  {
   "cell_type": "code",
   "execution_count": 21,
   "metadata": {},
   "outputs": [
    {
     "name": "stdout",
     "output_type": "stream",
     "text": [
      "[u'http://www.moneycontrol.com/news/buzzing-stocks/divis-laboratories-surges-19lifting-import-alert-by-usfda_9968381.html', 0, 2]\n"
     ]
    }
   ],
   "source": [
    "# Appending the empty list to create the final Sentiment analysis output\n",
    "var_nos = [results_url,positive_score, negative_score]\n",
    "df.append(var_nos)\n",
    "   \n",
    "# Print the final list of the Sentiment Analysis \n",
    "for item in df:\n",
    "      print(item)"
   ]
  },
  {
   "cell_type": "code",
   "execution_count": 26,
   "metadata": {},
   "outputs": [
    {
     "ename": "AttributeError",
     "evalue": "'module' object has no attribute 'compat'",
     "output_type": "error",
     "traceback": [
      "\u001b[1;31m\u001b[0m",
      "\u001b[1;31mAttributeError\u001b[0mTraceback (most recent call last)",
      "\u001b[1;32m<ipython-input-26-b5435f0a3431>\u001b[0m in \u001b[0;36m<module>\u001b[1;34m()\u001b[0m\n\u001b[1;32m----> 1\u001b[1;33m \u001b[1;32mimport\u001b[0m \u001b[0mpandas\u001b[0m \u001b[1;32mas\u001b[0m \u001b[0mpd\u001b[0m\u001b[1;33m\u001b[0m\u001b[0m\n\u001b[0m\u001b[0;32m      2\u001b[0m \u001b[1;32mimport\u001b[0m \u001b[0mmatplotlib\u001b[0m\u001b[1;33m.\u001b[0m\u001b[0mpyplot\u001b[0m \u001b[1;32mas\u001b[0m \u001b[0mplt\u001b[0m\u001b[1;33m\u001b[0m\u001b[0m\n\u001b[0;32m      3\u001b[0m \u001b[1;33m\u001b[0m\u001b[0m\n\u001b[0;32m      4\u001b[0m \u001b[0mdata\u001b[0m \u001b[1;33m=\u001b[0m \u001b[0mpd\u001b[0m\u001b[1;33m.\u001b[0m\u001b[0mread_csv\u001b[0m\u001b[1;33m(\u001b[0m\u001b[1;34m'NIFTY and NIFTY_Pharma.csv'\u001b[0m\u001b[1;33m,\u001b[0m\u001b[0mindex_col\u001b[0m\u001b[1;33m=\u001b[0m\u001b[1;36m0\u001b[0m\u001b[1;33m,\u001b[0m\u001b[0mparse_dates\u001b[0m \u001b[1;33m=\u001b[0m \u001b[0mTrue\u001b[0m\u001b[1;33m)\u001b[0m\u001b[1;33m\u001b[0m\u001b[0m\n\u001b[0;32m      5\u001b[0m \u001b[1;32mprint\u001b[0m \u001b[0mdata\u001b[0m\u001b[1;33m.\u001b[0m\u001b[0mhead\u001b[0m\u001b[1;33m(\u001b[0m\u001b[1;36m5\u001b[0m\u001b[1;33m)\u001b[0m\u001b[1;33m\u001b[0m\u001b[0m\n",
      "\u001b[1;32mC:\\Users\\Bharatwaaj\\Anaconda3\\envs\\Py27\\lib\\site-packages\\pandas\\__init__.py\u001b[0m in \u001b[0;36m<module>\u001b[1;34m()\u001b[0m\n\u001b[0;32m     38\u001b[0m \u001b[1;33m\u001b[0m\u001b[0m\n\u001b[0;32m     39\u001b[0m \u001b[1;31m# let init-time option registration happen\u001b[0m\u001b[1;33m\u001b[0m\u001b[1;33m\u001b[0m\u001b[0m\n\u001b[1;32m---> 40\u001b[1;33m \u001b[1;32mimport\u001b[0m \u001b[0mpandas\u001b[0m\u001b[1;33m.\u001b[0m\u001b[0mcore\u001b[0m\u001b[1;33m.\u001b[0m\u001b[0mconfig_init\u001b[0m\u001b[1;33m\u001b[0m\u001b[0m\n\u001b[0m\u001b[0;32m     41\u001b[0m \u001b[1;33m\u001b[0m\u001b[0m\n\u001b[0;32m     42\u001b[0m \u001b[1;32mfrom\u001b[0m \u001b[0mpandas\u001b[0m\u001b[1;33m.\u001b[0m\u001b[0mcore\u001b[0m\u001b[1;33m.\u001b[0m\u001b[0mapi\u001b[0m \u001b[1;32mimport\u001b[0m \u001b[1;33m*\u001b[0m\u001b[1;33m\u001b[0m\u001b[0m\n",
      "\u001b[1;32mC:\\Users\\Bharatwaaj\\Anaconda3\\envs\\Py27\\lib\\site-packages\\pandas\\core\\config_init.py\u001b[0m in \u001b[0;36m<module>\u001b[1;34m()\u001b[0m\n\u001b[0;32m     10\u001b[0m \u001b[1;33m\u001b[0m\u001b[0m\n\u001b[0;32m     11\u001b[0m \"\"\"\n\u001b[1;32m---> 12\u001b[1;33m \u001b[1;32mimport\u001b[0m \u001b[0mpandas\u001b[0m\u001b[1;33m.\u001b[0m\u001b[0mcore\u001b[0m\u001b[1;33m.\u001b[0m\u001b[0mconfig\u001b[0m \u001b[1;32mas\u001b[0m \u001b[0mcf\u001b[0m\u001b[1;33m\u001b[0m\u001b[0m\n\u001b[0m\u001b[0;32m     13\u001b[0m from pandas.core.config import (is_int, is_bool, is_text, is_instance_factory,\n\u001b[0;32m     14\u001b[0m                                 \u001b[0mis_one_of_factory\u001b[0m\u001b[1;33m,\u001b[0m \u001b[0mget_default_val\u001b[0m\u001b[1;33m,\u001b[0m\u001b[1;33m\u001b[0m\u001b[0m\n",
      "\u001b[1;32mC:\\Users\\Bharatwaaj\\Anaconda3\\envs\\Py27\\lib\\site-packages\\pandas\\core\\config.py\u001b[0m in \u001b[0;36m<module>\u001b[1;34m()\u001b[0m\n\u001b[0;32m     55\u001b[0m \u001b[1;32mimport\u001b[0m \u001b[0mwarnings\u001b[0m\u001b[1;33m\u001b[0m\u001b[0m\n\u001b[0;32m     56\u001b[0m \u001b[1;32mfrom\u001b[0m \u001b[0mpandas\u001b[0m\u001b[1;33m.\u001b[0m\u001b[0mcompat\u001b[0m \u001b[1;32mimport\u001b[0m \u001b[0mmap\u001b[0m\u001b[1;33m,\u001b[0m \u001b[0mlmap\u001b[0m\u001b[1;33m,\u001b[0m \u001b[0mu\u001b[0m\u001b[1;33m\u001b[0m\u001b[0m\n\u001b[1;32m---> 57\u001b[1;33m \u001b[1;32mimport\u001b[0m \u001b[0mpandas\u001b[0m\u001b[1;33m.\u001b[0m\u001b[0mcompat\u001b[0m \u001b[1;32mas\u001b[0m \u001b[0mcompat\u001b[0m\u001b[1;33m\u001b[0m\u001b[0m\n\u001b[0m\u001b[0;32m     58\u001b[0m \u001b[1;33m\u001b[0m\u001b[0m\n\u001b[0;32m     59\u001b[0m \u001b[0mDeprecatedOption\u001b[0m \u001b[1;33m=\u001b[0m \u001b[0mnamedtuple\u001b[0m\u001b[1;33m(\u001b[0m\u001b[1;34m'DeprecatedOption'\u001b[0m\u001b[1;33m,\u001b[0m \u001b[1;34m'key msg rkey removal_ver'\u001b[0m\u001b[1;33m)\u001b[0m\u001b[1;33m\u001b[0m\u001b[0m\n",
      "\u001b[1;31mAttributeError\u001b[0m: 'module' object has no attribute 'compat'"
     ]
    }
   ],
   "source": [
    "import pandas as pd\n",
    "import matplotlib.pyplot as plt\n",
    "\n",
    "data = pd.read_csv('NIFTY and NIFTY_Pharma.csv',index_col=0,parse_dates = True)\n",
    "print data.head(5)\n",
    "\n",
    "plt.figure(figsize=(10,9))\n",
    "plt.subplot(211)\n",
    "plt.plot(data['NIFTY'], lw=1, label ='NIFTY')\n",
    "plt.grid(True)\n",
    "plt.legend(loc=0)\n",
    "plt.xticks(rotation=35)\n",
    "plt.axis('tight')\n",
    "plt.title('NIFTY Pharma Vs NIFTY')\n",
    "\n",
    "plt.subplot(212)\n",
    "plt.plot(data['NIFTY_Pharma'],lw=1, color='red', label ='NIFTY Pharma')\n",
    "\n",
    "# 18th Oct\n",
    "plt.annotate('US Pricing Pressure News',ha = 'center', va = 'bottom',xytext = ('10/21/2016', 11150),xy = ('10/18/2016', 11469.5),\n",
    "arrowprops = { 'facecolor' : 'black', 'shrink' : 0.05 })\n",
    "\n",
    "# 5th Nov\n",
    "plt.annotate('US Probe Pressure News',ha = 'center', va = 'bottom',xytext = ('11/3/2016', 11000),xy = ('11/7/2016', 10818.8),\n",
    "arrowprops = { 'facecolor' : 'black', 'shrink' : 0.05 })\n",
    "\n",
    "# 10th Nov\n",
    "plt.annotate('Trumps \"Make in US\" News Worries the Sector',ha = 'center', va = 'bottom',xytext = ('11/9/2016', 11325),xy = ('11/10/2016', 10990.6),\n",
    "arrowprops = { 'facecolor' : 'black', 'shrink' : 0.05 })\n",
    "\n",
    "# 16 nov\n",
    "plt.annotate('Rising US Approvals News',ha = 'center', va = 'bottom',xytext = ('11/15/2016', 10950),xy = ('11/16/2016', 10559.3),\n",
    "arrowprops = { 'facecolor' : 'black', 'shrink' : 0.05 })\n",
    "\n",
    "plt.grid(True)\n",
    "plt.legend(loc=0)\n",
    "plt.xticks(rotation=35)\n",
    "plt.axis('tight')"
   ]
  },
  {
   "cell_type": "code",
   "execution_count": null,
   "metadata": {
    "collapsed": true
   },
   "outputs": [],
   "source": []
  }
 ],
 "metadata": {
  "kernelspec": {
   "display_name": "Python 2",
   "language": "python",
   "name": "python2"
  },
  "language_info": {
   "codemirror_mode": {
    "name": "ipython",
    "version": 2
   },
   "file_extension": ".py",
   "mimetype": "text/x-python",
   "name": "python",
   "nbconvert_exporter": "python",
   "pygments_lexer": "ipython2",
   "version": "2.7.13"
  }
 },
 "nbformat": 4,
 "nbformat_minor": 2
}
