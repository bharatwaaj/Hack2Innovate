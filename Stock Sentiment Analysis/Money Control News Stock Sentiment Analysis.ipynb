{
 "cells": [
  {
   "cell_type": "code",
   "execution_count": 1,
   "metadata": {},
   "outputs": [
    {
     "name": "stdout",
     "output_type": "stream",
     "text": [
      "['http://www.moneycontrol.com/company-article/cipla/news/C#C', 'http://www.moneycontrol.com/company-article/drreddyslaboratories/news/DRL#DRL', 'http://www.moneycontrol.com/company-article/aurobindopharma/news/AP#AP', 'http://www.moneycontrol.com/company-article/sunpharmaceuticalindustries/news/SPI#SPI', 'http://www.moneycontrol.com/company-article/piramalenterprises/news/PH05#PH05', 'http://www.moneycontrol.com/company-article/divislaboratories/news/DL03#DL03', 'http://www.moneycontrol.com/company-article/lupinlaboratories/news/LLa#LLa', 'http://www.moneycontrol.com/company-article/cadilahealthcare/news/CHC#CHC', 'http://www.moneycontrol.com/company-article/glenmarkpharma/news/GP08#GP08', 'http://www.moneycontrol.com/company-article/glaxosmithklinepharmaceuticals/news/GSK#GSK']\n"
     ]
    }
   ],
   "source": [
    "import csv\n",
    "import time\n",
    "import requests\n",
    "from bs4 import BeautifulSoup\n",
    "from pattern.en import ngrams\n",
    "\n",
    "Base_url = \"http://www.moneycontrol.com\"\n",
    "\n",
    "# Build a dictionary of companies and their abbreviated names \n",
    "companies = {'cadilahealthcare':'CHC','piramalenterprises':'PH05',\n",
    "             'glenmarkpharma':'GP08','glaxosmithklinepharmaceuticals':'GSK',\n",
    "             'sunpharmaceuticalindustries':'SPI','lupinlaboratories':'LLa',\n",
    "             'cipla':'C','aurobindopharma':'AP',\n",
    "             'drreddyslaboratories':'DRL','divislaboratories':'DL03'}\n",
    "             \n",
    "# Create a list of the news section urls of the respective companies \n",
    "url_list = ['http://www.moneycontrol.com/company-article/{}/news/{}#{}'.format(k,v,v) for k,v in companies.iteritems()]\n",
    "print(url_list)"
   ]
  },
  {
   "cell_type": "code",
   "execution_count": 2,
   "metadata": {
    "collapsed": true
   },
   "outputs": [],
   "source": [
    "# Create an empty list which will contain the selected news articles \n",
    "List_of_links = []   \n",
    "\n",
    "# Extract the relevant news articles weblinks from the news section of selected companies\n",
    "for urls in url_list:\n",
    "   html = requests.get(urls)\n",
    "   soup = BeautifulSoup(html.text,'html.parser') # Create a BeautifulSoup object \n",
    "\n",
    "   # Retrieve a list of all the links and the titles for the respective links\n",
    "   word1,word2,word3 = \"US\",\"USA\",\"USFDA\"\n",
    " \n",
    "   sub_links = soup.find_all('a', class_='arial11_summ')\n",
    "   for links in sub_links:\n",
    "      sp = BeautifulSoup(str(links),'html.parser')  # first convert into a string\n",
    "      tag = sp.a\n",
    "      if word1 in tag['title'] or word2 in tag['title'] or word3 in tag['title']:\n",
    "          category_links = Base_url + tag[\"href\"]\n",
    "          List_of_links.append(category_links)\n",
    "          time.sleep(3)\n",
    "          \n",
    "# Print the select list of news articles weblinks    \n",
    "#for p in List_of_links: print p"
   ]
  },
  {
   "cell_type": "code",
   "execution_count": 3,
   "metadata": {},
   "outputs": [
    {
     "name": "stdout",
     "output_type": "stream",
     "text": [
      "http://www.moneycontrol.com/news/business/divis-surgesliftingimport-ban-by-us-fda-stockfor-major-upgrade-by-analysts_9969781.html\n",
      "http://www.moneycontrol.com/news/business/dr-reddy39s-laboratories-recalls-famotidine-tabletsus-market_9895021.html\n",
      "http://www.moneycontrol.com/news/announcements/sun-pharmaceutical-industries-gets-usfda-approval-for-generic-coreg-cr_9922761.html\n",
      "http://www.moneycontrol.com/news/buzzing-stocks/sun-pharma-gains-4eirusfda-for-dadra-facility_9854941.html\n",
      "http://www.moneycontrol.com/news/announcements/zydus-receives-final-approvalusfda-for-desvenlafaxine-extended-release-tablets_9856521.html\n",
      "http://www.moneycontrol.com/news/business/zydus39-nesher-pharma-gets-usfda-nod-for-adhd-tablets_9971581.html\n",
      "http://www.moneycontrol.com/news/buzzing-stocks/dr-reddy39s-lab-rises-4launchkidney-drugus-market_9800301.html\n",
      "http://www.moneycontrol.com/news/buzzing-stocks/cadila-healthcare-gains-2usfda-nod-for-desvenlafaxine-tablets_9856761.html\n",
      "http://www.moneycontrol.com/news/buzzing-stocks/cadila-healthcare1usfda-final-approval-for-allopurinol-tablets_9873221.html\n",
      "http://www.moneycontrol.com/news/stocks-views/drl-launches-renvela-genericus-price-target-at-rs-2200-hdfc-securities_9800101.html\n",
      "http://www.moneycontrol.com/news/buzzing-stocks/cadila-healthcare-falls-6-as-credit-suisse-downgrades-after-teva-gets-usfda-nod-for-lialda_10024441.html\n",
      "http://www.moneycontrol.com/news/buzzing-stocks/cadila-healthcare-gains-1usfda-nod-to-market-breast-cancer-drug_9939681.html\n",
      "http://www.moneycontrol.com/news/announcements/zydus-receives-final-approvalusfda-for-allopurinol-tablets-usp_9869841.html\n",
      "http://www.moneycontrol.com/news/announcements/zydus39-nesher-pharmaceuticals-gets-usfda-final-approval_9970361.html\n",
      "http://www.moneycontrol.com/news/business/glenmark-gets-usfda-nod-for-aprepitant-capsules_9873821.html\n",
      "http://www.moneycontrol.com/news/buzzing-stocks/cipla2usfda-approval-for-sevelamer-carbonate-tablets_9928901.html\n",
      "http://www.moneycontrol.com/news/buzzing-stocks/aurobindo-pharma-rises-2usfda-final-nod-for-esomeprazole-capsules_9881361.html\n",
      "http://www.moneycontrol.com/news/buzzing-stocks/cadila-healthcare-shares-gain-4usfda-approval-for-adhd-drug_9971501.html\n",
      "http://www.moneycontrol.com/news/buzzing-stocks/aurobindo-pharma-gains-4usfda-nod_9968601.html\n",
      "http://www.moneycontrol.com/news/business/us-states-look-to-widen-price-fixing-probe-into-dr-reddyâs-sun-pharmaothers_9973101.html\n",
      "http://www.moneycontrol.com/news/buzzing-stocks/pharma-stocks-rally-1-4-after-divis-labs-says-usfda-to-lift-import-alert-for-unit-2_9970321.html\n",
      "http://www.moneycontrol.com/news/buzzing-stocks/glenmark-pharma-rises-1usfda-nod-for-aprepitant-capsules_9873281.html\n",
      "http://www.moneycontrol.com/news/business/will-continue-to-pursue-inorganic-growthindiaus-torrent-pharma_10007901.html\n",
      "http://www.moneycontrol.com/news/announcements/zydus-receives-final-approvalusfda-for-amitriptyline-hydrochloride-tablets-usp_9832321.html\n",
      "http://www.moneycontrol.com/news/business/aurobindo-pharma-gets-usfda-nod-for-heartburn-drug_9882041.html\n",
      "http://www.moneycontrol.com/news/results/dr-reddy39s-labs-q2-profit-falls-3lower-us-biz-operating-income-beats-estimates_9948781.html\n",
      "http://www.moneycontrol.com/news/business/zydus-gets-usfda-nod-for-overactive-bladder-drug_9817521.html\n",
      "http://www.moneycontrol.com/news/buzzing-stocks/cadila-healthcare-rises-1usfda-nod-for-amitriptyline-hydrochloride-tablets_9833261.html\n",
      "http://www.moneycontrol.com/news/announcements/usfda-to-lift-import-alert-for-divis-laboratories39-visakhapatnam-unit_9968001.html\n",
      "http://www.moneycontrol.com/news/result-poll/dr-reddys-labs-q2-profit-seen-down-9continued-pricing-pressureus_9945461.html\n",
      "http://www.moneycontrol.com/news/business/usfda-withdraws-warning-letter-to-divi39s-laboratories-unit_10031621.html\n",
      "http://www.moneycontrol.com/news/business/us-states-to-expand-generic-drug-price-fixing-suit-sources_9955961.html\n",
      "http://www.moneycontrol.com/news/business/drl-sun-pharma-glenmark-among-18-under-us-lensprice-fixing-complaint_9971721.html\n",
      "http://www.moneycontrol.com/news/announcements/zydus-receives-final-approvalusfda-for-clobetasol-propionate-ointment-usp_9941641.html\n",
      "http://www.moneycontrol.com/news/announcements/zydus-receives-final-approvalusfda-for-doxycycline-hyclate-tablets-usp_9950841.html\n",
      "http://www.moneycontrol.com/news/business/sun-pharma-gets-usfda-nod-for-generic-cardiac-drug_9923561.html\n",
      "http://www.moneycontrol.com/news/announcements/aurobindo-pharma-receives-usfda-approval-for-esomeprazole-magnesium-dr-capsules-otc_9881221.html\n",
      "http://www.moneycontrol.com/news/business/cipla-gets-usfda-nod-for-generic-versionrenvela-tablets_9929321.html\n",
      "http://www.moneycontrol.com/news/buzzing-stocks/divis-laboratories-surges-19lifting-import-alert-by-usfda_9968381.html\n",
      "[]\n"
     ]
    }
   ],
   "source": [
    "# Remove the duplicate news articles based on News Title\n",
    "unique_links = list(set(List_of_links))\n",
    "for q in unique_links: print q\n",
    "\n",
    "# Create a dictionary of positive/negative words related to the Pharma Sector\n",
    "reader = csv.reader(open('dict.csv', 'r'))\n",
    "pharma_dict = dict((rows[0],rows[1]) for rows in reader)\n",
    "\n",
    "# Creating an empty list which will be filled later with news article links, and Polarity values (pos/neg)\n",
    "df =[]\n",
    "print df"
   ]
  },
  {
   "cell_type": "code",
   "execution_count": 5,
   "metadata": {},
   "outputs": [
    {
     "name": "stdout",
     "output_type": "stream",
     "text": [
      "Not found\n"
     ]
    }
   ],
   "source": [
    "# Open the choosen news articles and extract the main text  \n",
    "\n",
    "for selected_links in unique_links:\n",
    "    results_url = selected_links \n",
    "       \n",
    "#     print results_url\n",
    "    results = requests.get(results_url)\n",
    "    results_text = BeautifulSoup(results.text)\n",
    "    extract_text = results_text.find(class_='arti-flow')\n",
    "    try :\n",
    "        final_text = extract_text.get_text()\n",
    "    except AttributeError:\n",
    "        print \"Not found\""
   ]
  },
  {
   "cell_type": "code",
   "execution_count": 6,
   "metadata": {
    "collapsed": true
   },
   "outputs": [],
   "source": [
    "# Pre-processing the extracted text using ngrams function from the pattern package   \n",
    "final_text1 = ngrams(final_text, n=1, punctuation=\".,;:!?()[]{}`''\\\"@#$^&*+-|=~_\", continuous=False)\n",
    "   #print final_text1"
   ]
  },
  {
   "cell_type": "code",
   "execution_count": 7,
   "metadata": {
    "collapsed": true
   },
   "outputs": [],
   "source": [
    "  # Checking if any of the words in the news article text matches with the words in the Pharma dictionary(pos/neg)\n",
    "new_dict = {}\n",
    "positive_score,negative_score = 0,0\n",
    "   \n",
    "for x in final_text1:\n",
    "    if pharma_dict.has_key(x[0]):\n",
    "        new_dict[x[0]] = pharma_dict[x[0]] \n",
    "                  \n",
    "positive_list = [] ; negative_list = [];\n",
    "for key, value in new_dict.items():\n",
    "    if value == 'positive': positive_list.append(key)\n",
    "    if value == 'negative': negative_list.append(key)\n",
    "                           \n",
    "# Compute the positive score, the negative score for each news articles\n",
    "positive_score = len(positive_list) ; negative_score = len(negative_list);\n",
    "#print positive_list ; print negative_list ;\n",
    "#print positive_score ; print negative_score;"
   ]
  },
  {
   "cell_type": "code",
   "execution_count": 8,
   "metadata": {},
   "outputs": [
    {
     "name": "stdout",
     "output_type": "stream",
     "text": [
      "[u'http://www.moneycontrol.com/news/buzzing-stocks/divis-laboratories-surges-19lifting-import-alert-by-usfda_9968381.html', 0, 2]\n"
     ]
    }
   ],
   "source": [
    "# Appending the empty list to create the final Sentiment analysis output\n",
    "var_nos = [results_url,positive_score, negative_score]\n",
    "df.append(var_nos)\n",
    "   \n",
    "# Print the final list of the Sentiment Analysis \n",
    "for item in df:\n",
    "      print(item)"
   ]
  },
  {
   "cell_type": "code",
   "execution_count": 12,
   "metadata": {},
   "outputs": [
    {
     "name": "stdout",
     "output_type": "stream",
     "text": [
      "             NIFTY  NIFTY_Pharma\n",
      "Date                            \n",
      "2016-10-14  8583.4       11380.1\n",
      "2016-10-17  8520.4       11279.4\n",
      "2016-10-18  8677.9       11469.5\n",
      "2016-10-19  8659.1       11527.8\n",
      "2016-10-20  8699.4       11483.4\n"
     ]
    },
    {
     "data": {
      "text/plain": [
       "(1.47623472e+18, 1.47994128e+18, 10507.965, 11637.334999999999)"
      ]
     },
     "execution_count": 12,
     "metadata": {},
     "output_type": "execute_result"
    }
   ],
   "source": [
    "-"
   ]
  },
  {
   "cell_type": "code",
   "execution_count": null,
   "metadata": {
    "collapsed": true
   },
   "outputs": [],
   "source": []
  }
 ],
 "metadata": {
  "kernelspec": {
   "display_name": "Python 2",
   "language": "python",
   "name": "python2"
  },
  "language_info": {
   "codemirror_mode": {
    "name": "ipython",
    "version": 2
   },
   "file_extension": ".py",
   "mimetype": "text/x-python",
   "name": "python",
   "nbconvert_exporter": "python",
   "pygments_lexer": "ipython2",
   "version": "2.7.13"
  }
 },
 "nbformat": 4,
 "nbformat_minor": 2
}
