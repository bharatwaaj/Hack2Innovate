{
 "cells": [
  {
   "cell_type": "code",
   "execution_count": 3,
   "metadata": {},
   "outputs": [
    {
     "name": "stdout",
     "output_type": "stream",
     "text": [
      "['http://www.moneycontrol.com/company-article/cipla/news/C#C', 'http://www.moneycontrol.com/company-article/drreddyslaboratories/news/DRL#DRL', 'http://www.moneycontrol.com/company-article/aurobindopharma/news/AP#AP', 'http://www.moneycontrol.com/company-article/sunpharmaceuticalindustries/news/SPI#SPI', 'http://www.moneycontrol.com/company-article/piramalenterprises/news/PH05#PH05', 'http://www.moneycontrol.com/company-article/divislaboratories/news/DL03#DL03', 'http://www.moneycontrol.com/company-article/lupinlaboratories/news/LL#LL', 'http://www.moneycontrol.com/company-article/cadilahealthcare/news/CHC#CHC', 'http://www.moneycontrol.com/company-article/glenmarkpharma/news/GP08#GP08', 'http://www.moneycontrol.com/company-article/glaxosmithklinepharmaceuticals/news/GSK#GSK']\n"
     ]
    }
   ],
   "source": [
    "import csv\n",
    "import time\n",
    "import requests\n",
    "from bs4 import BeautifulSoup\n",
    "from pattern.en import ngrams\n",
    "\n",
    "Base_url = \"http://www.moneycontrol.com\"\n",
    "\n",
    "# Build a dictionary of companies and their abbreviated names \n",
    "companies = {'cadilahealthcare':'CHC','piramalenterprises':'PH05',\n",
    "             'glenmarkpharma':'GP08','glaxosmithklinepharmaceuticals':'GSK',\n",
    "             'sunpharmaceuticalindustries':'SPI','lupinlaboratories':'LL',\n",
    "             'cipla':'C','aurobindopharma':'AP',\n",
    "             'drreddyslaboratories':'DRL','divislaboratories':'DL03'}\n",
    "             \n",
    "# Create a list of the news section urls of the respective companies \n",
    "url_list = ['http://www.moneycontrol.com/company-article/{}/news/{}#{}'.format(k,v,v) for k,v in companies.iteritems()]\n",
    "print url_list"
   ]
  },
  {
   "cell_type": "code",
   "execution_count": 4,
   "metadata": {
    "collapsed": true
   },
   "outputs": [],
   "source": [
    "# Create an empty list which will contain the selected news articles \n",
    "List_of_links = []   \n",
    "\n",
    "# Extract the relevant news articles weblinks from the news section of selected companies\n",
    "for urls in url_list:\n",
    "   html = requests.get(urls)\n",
    "   soup = BeautifulSoup(html.text,'html.parser') # Create a BeautifulSoup object \n",
    "\n",
    "   # Retrieve a list of all the links and the titles for the respective links\n",
    "   word1,word2,word3 = \"US\",\"USA\",\"USFDA\"\n",
    " \n",
    "   sub_links = soup.find_all('a', class_='arial11_summ')\n",
    "   for links in sub_links:\n",
    "      sp = BeautifulSoup(str(links),'html.parser')  # first convert into a string\n",
    "      tag = sp.a\n",
    "      if word1 in tag['title'] or word2 in tag['title'] or word3 in tag['title']:\n",
    "          category_links = Base_url + tag[\"href\"]\n",
    "          List_of_links.append(category_links)\n",
    "          time.sleep(3)\n",
    "          \n",
    "# Print the select list of news articles weblinks    \n",
    "#for p in List_of_links: print p"
   ]
  },
  {
   "cell_type": "code",
   "execution_count": 5,
   "metadata": {},
   "outputs": [
    {
     "name": "stdout",
     "output_type": "stream",
     "text": [
      "http://www.moneycontrol.com/news/business/divis-surgesliftingimport-ban-by-us-fda-stockfor-major-upgrade-by-analysts_9969781.html\n",
      "http://www.moneycontrol.com/news/business/dr-reddy39s-laboratories-recalls-famotidine-tabletsus-market_9895021.html\n",
      "http://www.moneycontrol.com/news/announcements/sun-pharmaceutical-industries-gets-usfda-approval-for-generic-coreg-cr_9922761.html\n",
      "http://www.moneycontrol.com/news/buzzing-stocks/sun-pharma-gains-4eirusfda-for-dadra-facility_9854941.html\n",
      "http://www.moneycontrol.com/news/announcements/zydus-receives-final-approvalusfda-for-desvenlafaxine-extended-release-tablets_9856521.html\n",
      "http://www.moneycontrol.com/news/business/zydus39-nesher-pharma-gets-usfda-nod-for-adhd-tablets_9971581.html\n",
      "http://www.moneycontrol.com/news/buzzing-stocks/dr-reddy39s-lab-rises-4launchkidney-drugus-market_9800301.html\n",
      "http://www.moneycontrol.com/news/buzzing-stocks/cadila-healthcare-gains-2usfda-nod-for-desvenlafaxine-tablets_9856761.html\n",
      "http://www.moneycontrol.com/news/buzzing-stocks/cadila-healthcare1usfda-final-approval-for-allopurinol-tablets_9873221.html\n",
      "http://www.moneycontrol.com/news/stocks-views/drl-launches-renvela-genericus-price-target-at-rs-2200-hdfc-securities_9800101.html\n",
      "http://www.moneycontrol.com/news/buzzing-stocks/cadila-healthcare-falls-6-as-credit-suisse-downgrades-after-teva-gets-usfda-nod-for-lialda_10024441.html\n",
      "http://www.moneycontrol.com/news/buzzing-stocks/cadila-healthcare-gains-1usfda-nod-to-market-breast-cancer-drug_9939681.html\n",
      "http://www.moneycontrol.com/news/announcements/zydus-receives-final-approvalusfda-for-allopurinol-tablets-usp_9869841.html\n",
      "http://www.moneycontrol.com/news/announcements/zydus39-nesher-pharmaceuticals-gets-usfda-final-approval_9970361.html\n",
      "http://www.moneycontrol.com/news/business/glenmark-gets-usfda-nod-for-aprepitant-capsules_9873821.html\n",
      "http://www.moneycontrol.com/news/buzzing-stocks/cipla2usfda-approval-for-sevelamer-carbonate-tablets_9928901.html\n",
      "http://www.moneycontrol.com/news/buzzing-stocks/aurobindo-pharma-rises-2usfda-final-nod-for-esomeprazole-capsules_9881361.html\n",
      "http://www.moneycontrol.com/news/buzzing-stocks/cadila-healthcare-shares-gain-4usfda-approval-for-adhd-drug_9971501.html\n",
      "http://www.moneycontrol.com/news/buzzing-stocks/aurobindo-pharma-gains-4usfda-nod_9968601.html\n",
      "http://www.moneycontrol.com/news/business/us-states-look-to-widen-price-fixing-probe-into-dr-reddyâs-sun-pharmaothers_9973101.html\n",
      "http://www.moneycontrol.com/news/buzzing-stocks/pharma-stocks-rally-1-4-after-divis-labs-says-usfda-to-lift-import-alert-for-unit-2_9970321.html\n",
      "http://www.moneycontrol.com/news/buzzing-stocks/glenmark-pharma-rises-1usfda-nod-for-aprepitant-capsules_9873281.html\n",
      "http://www.moneycontrol.com/news/business/will-continue-to-pursue-inorganic-growthindiaus-torrent-pharma_10007901.html\n",
      "http://www.moneycontrol.com/news/announcements/zydus-receives-final-approvalusfda-for-amitriptyline-hydrochloride-tablets-usp_9832321.html\n",
      "http://www.moneycontrol.com/news/business/aurobindo-pharma-gets-usfda-nod-for-heartburn-drug_9882041.html\n",
      "http://www.moneycontrol.com/news/results/dr-reddy39s-labs-q2-profit-falls-3lower-us-biz-operating-income-beats-estimates_9948781.html\n",
      "http://www.moneycontrol.com/news/business/zydus-gets-usfda-nod-for-overactive-bladder-drug_9817521.html\n",
      "http://www.moneycontrol.com/news/buzzing-stocks/cadila-healthcare-rises-1usfda-nod-for-amitriptyline-hydrochloride-tablets_9833261.html\n",
      "http://www.moneycontrol.com/news/announcements/usfda-to-lift-import-alert-for-divis-laboratories39-visakhapatnam-unit_9968001.html\n",
      "http://www.moneycontrol.com/news/result-poll/dr-reddys-labs-q2-profit-seen-down-9continued-pricing-pressureus_9945461.html\n",
      "http://www.moneycontrol.com/news/business/usfda-withdraws-warning-letter-to-divi39s-laboratories-unit_10031621.html\n",
      "http://www.moneycontrol.com/news/business/lupin-gets-usfda-approval-for-testosterone-topical-solution_9913381.html\n",
      "http://www.moneycontrol.com/news/business/us-states-to-expand-generic-drug-price-fixing-suit-sources_9955961.html\n",
      "http://www.moneycontrol.com/news/business/drl-sun-pharma-glenmark-among-18-under-us-lensprice-fixing-complaint_9971721.html\n",
      "http://www.moneycontrol.com/news/announcements/zydus-receives-final-approvalusfda-for-clobetasol-propionate-ointment-usp_9941641.html\n",
      "http://www.moneycontrol.com/news/announcements/zydus-receives-final-approvalusfda-for-doxycycline-hyclate-tablets-usp_9950841.html\n",
      "http://www.moneycontrol.com/news/business/sun-pharma-gets-usfda-nod-for-generic-cardiac-drug_9923561.html\n",
      "http://www.moneycontrol.com/news/announcements/aurobindo-pharma-receives-usfda-approval-for-esomeprazole-magnesium-dr-capsules-otc_9881221.html\n",
      "http://www.moneycontrol.com/news/business/cipla-gets-usfda-nod-for-generic-versionrenvela-tablets_9929321.html\n",
      "http://www.moneycontrol.com/news/buzzing-stocks/divis-laboratories-surges-19lifting-import-alert-by-usfda_9968381.html\n"
     ]
    },
    {
     "ename": "IOError",
     "evalue": "[Errno 2] No such file or directory: 'dict.csv'",
     "output_type": "error",
     "traceback": [
      "\u001b[1;31m\u001b[0m",
      "\u001b[1;31mIOError\u001b[0mTraceback (most recent call last)",
      "\u001b[1;32m<ipython-input-5-61ff8b991271>\u001b[0m in \u001b[0;36m<module>\u001b[1;34m()\u001b[0m\n\u001b[0;32m      4\u001b[0m \u001b[1;33m\u001b[0m\u001b[0m\n\u001b[0;32m      5\u001b[0m \u001b[1;31m# Create a dictionary of positive/negative words related to the Pharma Sector\u001b[0m\u001b[1;33m\u001b[0m\u001b[1;33m\u001b[0m\u001b[0m\n\u001b[1;32m----> 6\u001b[1;33m \u001b[0mreader\u001b[0m \u001b[1;33m=\u001b[0m \u001b[0mcsv\u001b[0m\u001b[1;33m.\u001b[0m\u001b[0mreader\u001b[0m\u001b[1;33m(\u001b[0m\u001b[0mopen\u001b[0m\u001b[1;33m(\u001b[0m\u001b[1;34m'dict.csv'\u001b[0m\u001b[1;33m,\u001b[0m \u001b[1;34m'r'\u001b[0m\u001b[1;33m)\u001b[0m\u001b[1;33m)\u001b[0m\u001b[1;33m\u001b[0m\u001b[0m\n\u001b[0m\u001b[0;32m      7\u001b[0m \u001b[0mpharma_dict\u001b[0m \u001b[1;33m=\u001b[0m \u001b[0mdict\u001b[0m\u001b[1;33m(\u001b[0m\u001b[1;33m(\u001b[0m\u001b[0mrows\u001b[0m\u001b[1;33m[\u001b[0m\u001b[1;36m0\u001b[0m\u001b[1;33m]\u001b[0m\u001b[1;33m,\u001b[0m\u001b[0mrows\u001b[0m\u001b[1;33m[\u001b[0m\u001b[1;36m1\u001b[0m\u001b[1;33m]\u001b[0m\u001b[1;33m)\u001b[0m \u001b[1;32mfor\u001b[0m \u001b[0mrows\u001b[0m \u001b[1;32min\u001b[0m \u001b[0mreader\u001b[0m\u001b[1;33m)\u001b[0m\u001b[1;33m\u001b[0m\u001b[0m\n\u001b[0;32m      8\u001b[0m \u001b[1;33m\u001b[0m\u001b[0m\n",
      "\u001b[1;31mIOError\u001b[0m: [Errno 2] No such file or directory: 'dict.csv'"
     ]
    }
   ],
   "source": [
    "# Remove the duplicate news articles based on News Title\n",
    "unique_links = list(set(List_of_links))\n",
    "for q in unique_links: print q\n",
    "\n",
    "# Create a dictionary of positive/negative words related to the Pharma Sector\n",
    "# reader = csv.reader(open('dict.csv', 'r'))\n",
    "# pharma_dict = dict((rows[0],rows[1]) for rows in reader)\n",
    "\n",
    "# Creating an empty list which will be filled later with news article links, and Polarity values (pos/neg)\n",
    "df =[]\n",
    "print df"
   ]
  },
  {
   "cell_type": "code",
   "execution_count": 6,
   "metadata": {},
   "outputs": [
    {
     "name": "stderr",
     "output_type": "stream",
     "text": [
      "C:\\Users\\Bharatwaaj\\Anaconda3\\envs\\Py27\\lib\\site-packages\\bs4\\__init__.py:181: UserWarning: No parser was explicitly specified, so I'm using the best available HTML parser for this system (\"html5lib\"). This usually isn't a problem, but if you run this code on another system, or in a different virtual environment, it may use a different parser and behave differently.\n",
      "\n",
      "The code that caused this warning is on line 174 of the file C:\\Users\\Bharatwaaj\\Anaconda3\\envs\\Py27\\lib\\runpy.py. To get rid of this warning, change code that looks like this:\n",
      "\n",
      " BeautifulSoup(YOUR_MARKUP})\n",
      "\n",
      "to this:\n",
      "\n",
      " BeautifulSoup(YOUR_MARKUP, \"html5lib\")\n",
      "\n",
      "  markup_type=markup_type))\n"
     ]
    },
    {
     "ename": "AttributeError",
     "evalue": "'NoneType' object has no attribute 'get_text'",
     "output_type": "error",
     "traceback": [
      "\u001b[1;31m\u001b[0m",
      "\u001b[1;31mAttributeError\u001b[0mTraceback (most recent call last)",
      "\u001b[1;32m<ipython-input-6-065d598e8543>\u001b[0m in \u001b[0;36m<module>\u001b[1;34m()\u001b[0m\n\u001b[0;32m      7\u001b[0m    \u001b[0mresults_text\u001b[0m \u001b[1;33m=\u001b[0m \u001b[0mBeautifulSoup\u001b[0m\u001b[1;33m(\u001b[0m\u001b[0mresults\u001b[0m\u001b[1;33m.\u001b[0m\u001b[0mtext\u001b[0m\u001b[1;33m)\u001b[0m\u001b[1;33m\u001b[0m\u001b[0m\n\u001b[0;32m      8\u001b[0m    \u001b[0mextract_text\u001b[0m \u001b[1;33m=\u001b[0m \u001b[0mresults_text\u001b[0m\u001b[1;33m.\u001b[0m\u001b[0mfind\u001b[0m\u001b[1;33m(\u001b[0m\u001b[0mclass_\u001b[0m\u001b[1;33m=\u001b[0m\u001b[1;34m'arti_cont'\u001b[0m\u001b[1;33m)\u001b[0m\u001b[1;33m\u001b[0m\u001b[0m\n\u001b[1;32m----> 9\u001b[1;33m    \u001b[0mfinal_text\u001b[0m \u001b[1;33m=\u001b[0m \u001b[0mextract_text\u001b[0m\u001b[1;33m.\u001b[0m\u001b[0mget_text\u001b[0m\u001b[1;33m(\u001b[0m\u001b[1;33m)\u001b[0m\u001b[1;33m\u001b[0m\u001b[0m\n\u001b[0m",
      "\u001b[1;31mAttributeError\u001b[0m: 'NoneType' object has no attribute 'get_text'"
     ]
    }
   ],
   "source": [
    "# Open the choosen news articles and extract the main text  \n",
    "for selected_links in unique_links:\n",
    "   results_url = selected_links \n",
    "   #print results_url\n",
    "   \n",
    "   results = requests.get(results_url)\n",
    "   results_text = BeautifulSoup(results.text)\n",
    "   extract_text = results_text.find(class_='arti_cont')\n",
    "   final_text = extract_text.get_text()"
   ]
  },
  {
   "cell_type": "code",
   "execution_count": null,
   "metadata": {
    "collapsed": true
   },
   "outputs": [],
   "source": [
    "# Pre-processing the extracted text using ngrams function from the pattern package   \n",
    "final_text1 = ngrams(final_text, n=1, punctuation=\".,;:!?()[]{}`''\\\"@#$^&*+-|=~_\", continuous=False)\n",
    "   #print final_text1"
   ]
  },
  {
   "cell_type": "code",
   "execution_count": null,
   "metadata": {
    "collapsed": true
   },
   "outputs": [],
   "source": [
    "  # Checking if any of the words in the news article text matches with the words in the Pharma dictionary(pos/neg)\n",
    "new_dict = {}\n",
    "positive_score,negative_score = 0,0\n",
    "   \n",
    "for x in final_text1:\n",
    "    if pharma_dict.has_key(x[0]):\n",
    "        new_dict[x[0]] = pharma_dict[x[0]] \n",
    "                  \n",
    "positive_list = [] ; negative_list = [];\n",
    "for key, value in new_dict.items():\n",
    "    if value == 'positive': positive_list.append(key)\n",
    "    if value == 'negative': negative_list.append(key)\n",
    "                           \n",
    "# Compute the positive score, the negative score for each news articles\n",
    "positive_score = len(positive_list) ; negative_score = len(negative_list);\n",
    "#print positive_list ; print negative_list ;\n",
    "#print positive_score ; print negative_score;"
   ]
  },
  {
   "cell_type": "code",
   "execution_count": null,
   "metadata": {
    "collapsed": true
   },
   "outputs": [],
   "source": [
    "# Appending the empty list to create the final Sentiment analysis output\n",
    "var_nos = [results_url,positive_score, negative_score]\n",
    "df.append(var_nos)\n",
    "   \n",
    "# Print the final list of the Sentiment Analysis \n",
    "for item in df:\n",
    "      print(item)"
   ]
  }
 ],
 "metadata": {
  "kernelspec": {
   "display_name": "Python 2",
   "language": "python",
   "name": "python2"
  },
  "language_info": {
   "codemirror_mode": {
    "name": "ipython",
    "version": 2
   },
   "file_extension": ".py",
   "mimetype": "text/x-python",
   "name": "python",
   "nbconvert_exporter": "python",
   "pygments_lexer": "ipython2",
   "version": "2.7.13"
  }
 },
 "nbformat": 4,
 "nbformat_minor": 2
}
