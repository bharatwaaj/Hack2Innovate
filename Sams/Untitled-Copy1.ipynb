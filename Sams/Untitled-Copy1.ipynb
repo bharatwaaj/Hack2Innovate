{
 "cells": [
  {
   "cell_type": "code",
   "execution_count": 1,
   "metadata": {},
   "outputs": [
    {
     "data": {
      "text/plain": [
       "(12000, 2)"
      ]
     },
     "execution_count": 1,
     "metadata": {},
     "output_type": "execute_result"
    }
   ],
   "source": [
    "import pandas as pd\n",
    "sms = pd.read_csv(\"Sams2/TRAIN_info_SMS.csv\",encoding='latin-1')\n",
    "new_sms = pd.read_csv(\"Sams2/DEV_info_SMS.csv\",encoding='latin-1')\n",
    "sms.shape"
   ]
  },
  {
   "cell_type": "code",
   "execution_count": 2,
   "metadata": {},
   "outputs": [
    {
     "data": {
      "text/html": [
       "<div>\n",
       "<style>\n",
       "    .dataframe thead tr:only-child th {\n",
       "        text-align: right;\n",
       "    }\n",
       "\n",
       "    .dataframe thead th {\n",
       "        text-align: left;\n",
       "    }\n",
       "\n",
       "    .dataframe tbody tr th {\n",
       "        vertical-align: top;\n",
       "    }\n",
       "</style>\n",
       "<table border=\"1\" class=\"dataframe\">\n",
       "  <thead>\n",
       "    <tr style=\"text-align: right;\">\n",
       "      <th></th>\n",
       "      <th>Label</th>\n",
       "      <th>Message</th>\n",
       "    </tr>\n",
       "  </thead>\n",
       "  <tbody>\n",
       "    <tr>\n",
       "      <th>0</th>\n",
       "      <td>Delivery</td>\n",
       "      <td>Dear Guest, Thanks for choosing The Edison. Or...</td>\n",
       "    </tr>\n",
       "    <tr>\n",
       "      <th>1</th>\n",
       "      <td>Hotel</td>\n",
       "      <td>Welcome to Southern University at Shreveport R...</td>\n",
       "    </tr>\n",
       "    <tr>\n",
       "      <th>2</th>\n",
       "      <td>Payment</td>\n",
       "      <td>Bill dated 2013-01-14 for Rs 626 has been gene...</td>\n",
       "    </tr>\n",
       "    <tr>\n",
       "      <th>3</th>\n",
       "      <td>Payment</td>\n",
       "      <td>Bill dated 2014-11-30 for Rs 323 has been gene...</td>\n",
       "    </tr>\n",
       "    <tr>\n",
       "      <th>4</th>\n",
       "      <td>Appointment</td>\n",
       "      <td>DEAR Zachary, THANK YOU FOR YOUR BOOKING (ORDE...</td>\n",
       "    </tr>\n",
       "  </tbody>\n",
       "</table>\n",
       "</div>"
      ],
      "text/plain": [
       "         Label                                            Message\n",
       "0     Delivery  Dear Guest, Thanks for choosing The Edison. Or...\n",
       "1        Hotel  Welcome to Southern University at Shreveport R...\n",
       "2      Payment  Bill dated 2013-01-14 for Rs 626 has been gene...\n",
       "3      Payment  Bill dated 2014-11-30 for Rs 323 has been gene...\n",
       "4  Appointment  DEAR Zachary, THANK YOU FOR YOUR BOOKING (ORDE..."
      ]
     },
     "execution_count": 2,
     "metadata": {},
     "output_type": "execute_result"
    }
   ],
   "source": [
    "sms.head()"
   ]
  },
  {
   "cell_type": "code",
   "execution_count": 3,
   "metadata": {
    "collapsed": true
   },
   "outputs": [],
   "source": [
    "for col in sms.columns:\n",
    "    if 'Unnamed' in col:\n",
    "        del sms[col]"
   ]
  },
  {
   "cell_type": "code",
   "execution_count": 4,
   "metadata": {},
   "outputs": [
    {
     "data": {
      "text/html": [
       "<div>\n",
       "<style>\n",
       "    .dataframe thead tr:only-child th {\n",
       "        text-align: right;\n",
       "    }\n",
       "\n",
       "    .dataframe thead th {\n",
       "        text-align: left;\n",
       "    }\n",
       "\n",
       "    .dataframe tbody tr th {\n",
       "        vertical-align: top;\n",
       "    }\n",
       "</style>\n",
       "<table border=\"1\" class=\"dataframe\">\n",
       "  <thead>\n",
       "    <tr style=\"text-align: right;\">\n",
       "      <th></th>\n",
       "      <th>Label</th>\n",
       "      <th>Message</th>\n",
       "    </tr>\n",
       "  </thead>\n",
       "  <tbody>\n",
       "    <tr>\n",
       "      <th>0</th>\n",
       "      <td>Delivery</td>\n",
       "      <td>Dear Guest, Thanks for choosing The Edison. Or...</td>\n",
       "    </tr>\n",
       "    <tr>\n",
       "      <th>1</th>\n",
       "      <td>Hotel</td>\n",
       "      <td>Welcome to Southern University at Shreveport R...</td>\n",
       "    </tr>\n",
       "    <tr>\n",
       "      <th>2</th>\n",
       "      <td>Payment</td>\n",
       "      <td>Bill dated 2013-01-14 for Rs 626 has been gene...</td>\n",
       "    </tr>\n",
       "    <tr>\n",
       "      <th>3</th>\n",
       "      <td>Payment</td>\n",
       "      <td>Bill dated 2014-11-30 for Rs 323 has been gene...</td>\n",
       "    </tr>\n",
       "    <tr>\n",
       "      <th>4</th>\n",
       "      <td>Appointment</td>\n",
       "      <td>DEAR Zachary, THANK YOU FOR YOUR BOOKING (ORDE...</td>\n",
       "    </tr>\n",
       "  </tbody>\n",
       "</table>\n",
       "</div>"
      ],
      "text/plain": [
       "         Label                                            Message\n",
       "0     Delivery  Dear Guest, Thanks for choosing The Edison. Or...\n",
       "1        Hotel  Welcome to Southern University at Shreveport R...\n",
       "2      Payment  Bill dated 2013-01-14 for Rs 626 has been gene...\n",
       "3      Payment  Bill dated 2014-11-30 for Rs 323 has been gene...\n",
       "4  Appointment  DEAR Zachary, THANK YOU FOR YOUR BOOKING (ORDE..."
      ]
     },
     "execution_count": 4,
     "metadata": {},
     "output_type": "execute_result"
    }
   ],
   "source": [
    "sms.head()"
   ]
  },
  {
   "cell_type": "code",
   "execution_count": 5,
   "metadata": {},
   "outputs": [
    {
     "data": {
      "text/html": [
       "<div>\n",
       "<style>\n",
       "    .dataframe thead tr:only-child th {\n",
       "        text-align: right;\n",
       "    }\n",
       "\n",
       "    .dataframe thead th {\n",
       "        text-align: left;\n",
       "    }\n",
       "\n",
       "    .dataframe tbody tr th {\n",
       "        vertical-align: top;\n",
       "    }\n",
       "</style>\n",
       "<table border=\"1\" class=\"dataframe\">\n",
       "  <thead>\n",
       "    <tr style=\"text-align: right;\">\n",
       "      <th></th>\n",
       "      <th>Label</th>\n",
       "      <th>Message</th>\n",
       "    </tr>\n",
       "  </thead>\n",
       "  <tbody>\n",
       "    <tr>\n",
       "      <th>0</th>\n",
       "      <td>Delivery</td>\n",
       "      <td>Dear Guest, Thanks for choosing The Edison. Or...</td>\n",
       "    </tr>\n",
       "    <tr>\n",
       "      <th>1</th>\n",
       "      <td>Hotel</td>\n",
       "      <td>Welcome to Southern University at Shreveport R...</td>\n",
       "    </tr>\n",
       "    <tr>\n",
       "      <th>2</th>\n",
       "      <td>Payment</td>\n",
       "      <td>Bill dated 2013-01-14 for Rs 626 has been gene...</td>\n",
       "    </tr>\n",
       "    <tr>\n",
       "      <th>3</th>\n",
       "      <td>Payment</td>\n",
       "      <td>Bill dated 2014-11-30 for Rs 323 has been gene...</td>\n",
       "    </tr>\n",
       "    <tr>\n",
       "      <th>4</th>\n",
       "      <td>Appointment</td>\n",
       "      <td>DEAR Zachary, THANK YOU FOR YOUR BOOKING (ORDE...</td>\n",
       "    </tr>\n",
       "  </tbody>\n",
       "</table>\n",
       "</div>"
      ],
      "text/plain": [
       "         Label                                            Message\n",
       "0     Delivery  Dear Guest, Thanks for choosing The Edison. Or...\n",
       "1        Hotel  Welcome to Southern University at Shreveport R...\n",
       "2      Payment  Bill dated 2013-01-14 for Rs 626 has been gene...\n",
       "3      Payment  Bill dated 2014-11-30 for Rs 323 has been gene...\n",
       "4  Appointment  DEAR Zachary, THANK YOU FOR YOUR BOOKING (ORDE..."
      ]
     },
     "execution_count": 5,
     "metadata": {},
     "output_type": "execute_result"
    }
   ],
   "source": [
    "sms = sms.rename(columns={'v1': 'label', 'v2': 'message'})\n",
    "sms.head()"
   ]
  },
  {
   "cell_type": "code",
   "execution_count": 6,
   "metadata": {},
   "outputs": [
    {
     "data": {
      "text/plain": [
       "(12000, 2)"
      ]
     },
     "execution_count": 6,
     "metadata": {},
     "output_type": "execute_result"
    }
   ],
   "source": [
    "sms.shape"
   ]
  },
  {
   "cell_type": "code",
   "execution_count": 7,
   "metadata": {},
   "outputs": [
    {
     "data": {
      "text/plain": [
       "Expiry         1000\n",
       "PickUp         1000\n",
       "Flight         1000\n",
       "Appointment    1000\n",
       "Bus            1000\n",
       "Hotel          1000\n",
       "Cab            1000\n",
       "Reservation    1000\n",
       "Train          1000\n",
       "Payment        1000\n",
       "Delivery       1000\n",
       "Movie          1000\n",
       "Name: Label, dtype: int64"
      ]
     },
     "execution_count": 7,
     "metadata": {},
     "output_type": "execute_result"
    }
   ],
   "source": [
    "sms.Label.value_counts()"
   ]
  },
  {
   "cell_type": "code",
   "execution_count": 8,
   "metadata": {},
   "outputs": [
    {
     "data": {
      "text/html": [
       "<div>\n",
       "<style>\n",
       "    .dataframe thead tr:only-child th {\n",
       "        text-align: right;\n",
       "    }\n",
       "\n",
       "    .dataframe thead th {\n",
       "        text-align: left;\n",
       "    }\n",
       "\n",
       "    .dataframe tbody tr th {\n",
       "        vertical-align: top;\n",
       "    }\n",
       "</style>\n",
       "<table border=\"1\" class=\"dataframe\">\n",
       "  <thead>\n",
       "    <tr style=\"text-align: right;\">\n",
       "      <th></th>\n",
       "      <th>Label</th>\n",
       "      <th>Message</th>\n",
       "      <th>label_num</th>\n",
       "    </tr>\n",
       "  </thead>\n",
       "  <tbody>\n",
       "    <tr>\n",
       "      <th>0</th>\n",
       "      <td>Delivery</td>\n",
       "      <td>Dear Guest, Thanks for choosing The Edison. Or...</td>\n",
       "      <td>10</td>\n",
       "    </tr>\n",
       "    <tr>\n",
       "      <th>1</th>\n",
       "      <td>Hotel</td>\n",
       "      <td>Welcome to Southern University at Shreveport R...</td>\n",
       "      <td>5</td>\n",
       "    </tr>\n",
       "    <tr>\n",
       "      <th>2</th>\n",
       "      <td>Payment</td>\n",
       "      <td>Bill dated 2013-01-14 for Rs 626 has been gene...</td>\n",
       "      <td>9</td>\n",
       "    </tr>\n",
       "    <tr>\n",
       "      <th>3</th>\n",
       "      <td>Payment</td>\n",
       "      <td>Bill dated 2014-11-30 for Rs 323 has been gene...</td>\n",
       "      <td>9</td>\n",
       "    </tr>\n",
       "    <tr>\n",
       "      <th>4</th>\n",
       "      <td>Appointment</td>\n",
       "      <td>DEAR Zachary, THANK YOU FOR YOUR BOOKING (ORDE...</td>\n",
       "      <td>3</td>\n",
       "    </tr>\n",
       "  </tbody>\n",
       "</table>\n",
       "</div>"
      ],
      "text/plain": [
       "         Label                                            Message  label_num\n",
       "0     Delivery  Dear Guest, Thanks for choosing The Edison. Or...         10\n",
       "1        Hotel  Welcome to Southern University at Shreveport R...          5\n",
       "2      Payment  Bill dated 2013-01-14 for Rs 626 has been gene...          9\n",
       "3      Payment  Bill dated 2014-11-30 for Rs 323 has been gene...          9\n",
       "4  Appointment  DEAR Zachary, THANK YOU FOR YOUR BOOKING (ORDE...          3"
      ]
     },
     "execution_count": 8,
     "metadata": {},
     "output_type": "execute_result"
    }
   ],
   "source": [
    "sms['label_num']=sms.Label.map({\"Expiry\":0,\"PickUp\":1,\"Flight\":2,\"Appointment\":3,\"Bus\":4, \"Hotel\":5,\"Cab\":6,\"Reservation\":7,\"Train\":8,\"Payment\":9,\"Delivery\":10,\"Movie\":11})\n",
    "# checking the conversion\n",
    "sms.head()"
   ]
  },
  {
   "cell_type": "code",
   "execution_count": 9,
   "metadata": {},
   "outputs": [
    {
     "name": "stdout",
     "output_type": "stream",
     "text": [
      "(12000,)\n",
      "(12000,)\n"
     ]
    }
   ],
   "source": [
    "x = sms.Message\n",
    "x_new = new_sms.Message\n",
    "y = sms.label_num\n",
    "print(x.shape)\n",
    "print(y.shape)"
   ]
  },
  {
   "cell_type": "code",
   "execution_count": 10,
   "metadata": {},
   "outputs": [
    {
     "name": "stdout",
     "output_type": "stream",
     "text": [
      "(9000,)\n",
      "(3000,)\n"
     ]
    }
   ],
   "source": [
    "# split x and y into traing and testing set\n",
    "from sklearn.model_selection import train_test_split\n",
    "x_train,x_test,y_train,y_test = train_test_split(x,y,random_state=1)\n",
    "print(x_train.shape)\n",
    "print(x_test.shape)"
   ]
  },
  {
   "cell_type": "code",
   "execution_count": 11,
   "metadata": {},
   "outputs": [
    {
     "data": {
      "text/plain": [
       "<9000x18933 sparse matrix of type '<class 'numpy.int64'>'\n",
       "\twith 253412 stored elements in Compressed Sparse Row format>"
      ]
     },
     "execution_count": 11,
     "metadata": {},
     "output_type": "execute_result"
    }
   ],
   "source": [
    "# import and instatiate the countvectorizer with default parameter\n",
    "from sklearn.feature_extraction.text import CountVectorizer\n",
    "vect = CountVectorizer()\n",
    "# Creating a document term matrix\n",
    "x_train_dtm = vect.fit_transform(x_train)\n",
    "x_train_dtm"
   ]
  },
  {
   "cell_type": "code",
   "execution_count": 12,
   "metadata": {},
   "outputs": [
    {
     "data": {
      "text/plain": [
       "<3000x18933 sparse matrix of type '<class 'numpy.int64'>'\n",
       "\twith 79869 stored elements in Compressed Sparse Row format>"
      ]
     },
     "execution_count": 12,
     "metadata": {},
     "output_type": "execute_result"
    }
   ],
   "source": [
    "# Transform testing data into document term matrix\n",
    "x_test_dtm = vect.transform(x_test)\n",
    "x_test_dtm"
   ]
  },
  {
   "cell_type": "code",
   "execution_count": 13,
   "metadata": {},
   "outputs": [],
   "source": [
    "# Import and instatiate the naive bayes model\n",
    "from sklearn.naive_bayes import MultinomialNB\n",
    "nb = MultinomialNB()"
   ]
  },
  {
   "cell_type": "code",
   "execution_count": 14,
   "metadata": {},
   "outputs": [
    {
     "name": "stdout",
     "output_type": "stream",
     "text": [
      "Wall time: 31 ms\n"
     ]
    },
    {
     "data": {
      "text/plain": [
       "MultinomialNB(alpha=1.0, class_prior=None, fit_prior=True)"
      ]
     },
     "execution_count": 14,
     "metadata": {},
     "output_type": "execute_result"
    }
   ],
   "source": [
    "# Train the model using x_train_dtm\n",
    "%time nb.fit(x_train_dtm,y_train)\n",
    "# %time model.fit(x_train_dtm,y_train)"
   ]
  },
  {
   "cell_type": "code",
   "execution_count": 17,
   "metadata": {},
   "outputs": [],
   "source": [
    "y_pred_class = nb.predict(vect.transform(x_test))"
   ]
  },
  {
   "cell_type": "code",
   "execution_count": 19,
   "metadata": {
    "collapsed": true
   },
   "outputs": [],
   "source": [
    "# make class prediction for x_test_dtm\n",
    "y_pred_class = nb.predict(vect.transform(x_new))"
   ]
  },
  {
   "cell_type": "code",
   "execution_count": 20,
   "metadata": {
    "collapsed": true
   },
   "outputs": [],
   "source": [
    "y_pred_class_df =  pd.DataFrame(y_pred_class)"
   ]
  },
  {
   "cell_type": "code",
   "execution_count": 21,
   "metadata": {
    "collapsed": true
   },
   "outputs": [],
   "source": [
    "y_pred_class_df.columns = [\"Label\"]"
   ]
  },
  {
   "cell_type": "code",
   "execution_count": 23,
   "metadata": {
    "collapsed": true
   },
   "outputs": [],
   "source": [
    "y_pred_class_final = y_pred_class_df.Label.map({0:\"Expiry\",1:\"PickUp\",2:\"Flight\",3:\"Appointment\",4:\"Bus\",5:\"Hotel\",6:\"Cab\",7:\"Reservation\",8:\"Train\",9:\"Payment\",10:\"Delivery\",11:\"Movie\"})"
   ]
  },
  {
   "cell_type": "code",
   "execution_count": 25,
   "metadata": {},
   "outputs": [
    {
     "data": {
      "text/plain": [
       "0            PickUp\n",
       "1           Payment\n",
       "2           Payment\n",
       "3            Flight\n",
       "4             Hotel\n",
       "5       Appointment\n",
       "6             Hotel\n",
       "7             Train\n",
       "8             Movie\n",
       "9       Reservation\n",
       "10      Reservation\n",
       "11              Cab\n",
       "12           PickUp\n",
       "13              Bus\n",
       "14         Delivery\n",
       "15            Hotel\n",
       "16              Cab\n",
       "17            Movie\n",
       "18      Appointment\n",
       "19           Flight\n",
       "20           Expiry\n",
       "21           Flight\n",
       "22              Cab\n",
       "23           Flight\n",
       "24      Reservation\n",
       "25           Expiry\n",
       "26          Payment\n",
       "27           PickUp\n",
       "28              Bus\n",
       "29           Flight\n",
       "           ...     \n",
       "2970         Expiry\n",
       "2971          Hotel\n",
       "2972        Payment\n",
       "2973          Movie\n",
       "2974         PickUp\n",
       "2975    Reservation\n",
       "2976          Movie\n",
       "2977        Payment\n",
       "2978    Reservation\n",
       "2979         PickUp\n",
       "2980         Expiry\n",
       "2981            Cab\n",
       "2982        Payment\n",
       "2983         Expiry\n",
       "2984    Reservation\n",
       "2985          Hotel\n",
       "2986            Cab\n",
       "2987            Bus\n",
       "2988            Cab\n",
       "2989    Reservation\n",
       "2990         PickUp\n",
       "2991       Delivery\n",
       "2992          Movie\n",
       "2993        Payment\n",
       "2994    Appointment\n",
       "2995            Bus\n",
       "2996       Delivery\n",
       "2997          Movie\n",
       "2998          Hotel\n",
       "2999         PickUp\n",
       "Name: Label, Length: 3000, dtype: object"
      ]
     },
     "execution_count": 25,
     "metadata": {},
     "output_type": "execute_result"
    }
   ],
   "source": [
    "y_pred_class_final"
   ]
  },
  {
   "cell_type": "code",
   "execution_count": 26,
   "metadata": {
    "collapsed": true
   },
   "outputs": [],
   "source": [
    "results = pd.DataFrame(y_pred_class_final)\n",
    "results.to_csv('results_info.csv')"
   ]
  },
  {
   "cell_type": "code",
   "execution_count": 27,
   "metadata": {},
   "outputs": [
    {
     "data": {
      "text/plain": [
       "0.085000000000000006"
      ]
     },
     "execution_count": 27,
     "metadata": {},
     "output_type": "execute_result"
    }
   ],
   "source": [
    "# calculate the accuarcy of class prediction\n",
    "from sklearn import metrics\n",
    "metrics.accuracy_score(y_test,y_pred_class)"
   ]
  },
  {
   "cell_type": "code",
   "execution_count": null,
   "metadata": {
    "collapsed": true
   },
   "outputs": [],
   "source": [
    "y_pred_class = nb.predict()"
   ]
  }
 ],
 "metadata": {
  "kernelspec": {
   "display_name": "Python 3",
   "language": "python",
   "name": "python3"
  },
  "language_info": {
   "codemirror_mode": {
    "name": "ipython",
    "version": 3
   },
   "file_extension": ".py",
   "mimetype": "text/x-python",
   "name": "python",
   "nbconvert_exporter": "python",
   "pygments_lexer": "ipython3",
   "version": "3.6.1"
  }
 },
 "nbformat": 4,
 "nbformat_minor": 2
}
