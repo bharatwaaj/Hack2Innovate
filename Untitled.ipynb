{
 "cells": [
  {
   "cell_type": "code",
   "execution_count": 8,
   "metadata": {},
   "outputs": [],
   "source": [
    "# Imports\n",
    "import re\n",
    "import tweepy\n",
    "from tweepy import OAuthHandler\n",
    "from textblob import TextBlob\n",
    "from alpha_vantage.timeseries import TimeSeries\n",
    "import matplotlib.pyplot as plt\n",
    "import sys\n",
    "import pandas as pd\n",
    "from dateutil import parser\n",
    "from datetime import datetime, timedelta\n",
    "import requests"
   ]
  },
  {
   "cell_type": "code",
   "execution_count": 34,
   "metadata": {},
   "outputs": [],
   "source": [
    "api_key = \"e8498dada182423a9da584e92c79e91b\"\n",
    "source = \"bloomberg\"\n",
    "url = \"https://newsapi.org/v1/articles?source=\" + query + \"&apiKey=\" + api_key\n",
    "url2 = \"https://newsapi.org/v1/articles?source=bloomberg&apiKey=e8498dada182423a9da584e92c79e91b\"\n",
    "url3 = \"https://newsapi.org/v1/articles?source=cnbc&apiKey=e8498dada182423a9da584e92c79e91b\"\n",
    "r = requests.get(url = url2)\n",
    "r1 = requests.get(url = url3)"
   ]
  },
  {
   "cell_type": "code",
   "execution_count": 35,
   "metadata": {},
   "outputs": [],
   "source": [
    "data = r.json()\n",
    "data = r1.json()"
   ]
  },
  {
   "cell_type": "code",
   "execution_count": 20,
   "metadata": {},
   "outputs": [
    {
     "data": {
      "text/plain": [
       "{'articles': [{'author': 'Ilya Arkhipov, Jennifer Jacobs',\n",
       "   'description': '',\n",
       "   'publishedAt': '2017-11-12T04:36:19.014Z',\n",
       "   'title': 'Trump Says He Stands With Intel Agencies on Russia Meddling',\n",
       "   'url': 'https://www.bloomberg.com/news/articles/2017-11-12/trump-says-he-stands-with-intel-agencies-on-russia-meddling',\n",
       "   'urlToImage': 'https://assets.bwbx.io/images/users/iqjWHBFdfxIU/iI2yZYeRaiQ4/v1/1200x800.jpg'},\n",
       "  {'author': '',\n",
       "   'description': 'The U.S. Justice Department has suggested to AT&T Inc. officials that they figure out how to get the benefits they’re seeking from their proposed merger with Time Warner Inc. without being able to own CNN, TBS and other Turner channels, according to people familiar with the discussions.',\n",
       "   'publishedAt': '2017-11-12T00:49:08.096Z',\n",
       "   'title': 'U.S. Is Said to Suggest Ways AT&T Could Win Time Warner Approval',\n",
       "   'url': 'https://www.bloomberg.com/news/articles/2017-11-12/u-s-is-said-to-suggest-ways-at-t-could-win-time-warner-approval',\n",
       "   'urlToImage': 'https://assets.bwbx.io/images/users/iqjWHBFdfxIU/iwihJC9e62yk/v0/1200x800.jpg'},\n",
       "  {'author': 'Arit John, Laura Litvan',\n",
       "   'description': 'Roy Moore has Republicans pinned in a corner with no easy exit.',\n",
       "   'publishedAt': '2017-11-10T20:25:46.374Z',\n",
       "   'title': 'Moore Has Put Republican Leaders in a Bind',\n",
       "   'url': 'https://www.bloomberg.com/news/articles/2017-11-10/moore-has-put-republican-leaders-in-a-bind-with-no-easy-escape',\n",
       "   'urlToImage': 'https://assets.bwbx.io/images/users/iqjWHBFdfxIU/id_7HMjXhMFU/v1/1200x800.jpg'},\n",
       "  {'author': 'Isabel Reynolds',\n",
       "   'description': 'Japanese Prime Minister Shinzo Abe held a meeting with a Taiwanese politician Sunday, hours after Chinese President Xi Jinping warned him not to break with past consensus on what Beijing regards as a renegade province.',\n",
       "   'publishedAt': '2017-11-12T05:30:09.459Z',\n",
       "   'title': \"Japan's Abe Meets Taiwanese Lawmaker Hours After Xi Warning\",\n",
       "   'url': 'https://www.bloomberg.com/news/articles/2017-11-12/japan-s-abe-meets-taiwanese-lawmaker-hours-after-xi-warning',\n",
       "   'urlToImage': 'https://assets.bwbx.io/images/users/iqjWHBFdfxIU/ioq_WdPJf6jg/v1/1200x800.jpg'},\n",
       "  {'author': 'Jennifer Jacobs',\n",
       "   'description': 'U.S. President Donald Trump offered to help resolve territorial disputes in the South China Sea during a meeting with his Vietnamese counterpart in Hanoi.',\n",
       "   'publishedAt': '2017-11-12T05:03:16.105Z',\n",
       "   'title': 'Trump Offers to Broker Deal to Resolve South China Sea Dispute',\n",
       "   'url': 'https://www.bloomberg.com/news/articles/2017-11-12/trump-offers-to-broker-deal-to-resolve-south-china-sea-dispute',\n",
       "   'urlToImage': 'https://assets.bwbx.io/images/users/iqjWHBFdfxIU/ijzz_tdjJTjs/v1/1200x800.jpg'},\n",
       "  {'author': 'Jess Shankleman',\n",
       "   'description': 'Envoys from almost 200 countries are entering the final stretch of two weeks of talks aimed at defending and bolstering the global Paris Agreement on climate change.',\n",
       "   'publishedAt': '2017-11-12T05:01:00Z',\n",
       "   'title': 'Saudis, Coal, Defying Trump: Five Things to Watch at Bonn Climate Talks',\n",
       "   'url': 'https://www.bloomberg.com/news/articles/2017-11-12/saudis-coal-defying-trump-five-things-to-watch-at-cop23',\n",
       "   'urlToImage': 'https://assets.bwbx.io/images/users/iqjWHBFdfxIU/inqnS6N27ENk/v1/1200x818.jpg'},\n",
       "  {'author': 'Matthew Campbell, Franz Wild',\n",
       "   'description': 'The continent’s most important economy now appears to function for the benefit of one powerful family.',\n",
       "   'publishedAt': '2017-11-09T05:01:09.332Z',\n",
       "   'title': 'The Brothers Who Bought South Africa',\n",
       "   'url': 'https://www.bloomberg.com/news/features/2017-11-09/the-brothers-who-bought-south-africa',\n",
       "   'urlToImage': 'https://assets.bwbx.io/images/users/iqjWHBFdfxIU/iPSp_3SAf6.w/v0/1200x630.jpg'},\n",
       "  {'author': 'Erik Schatzker',\n",
       "   'description': 'Watching soccer, talking politics, with the billionaire Saudi prince',\n",
       "   'publishedAt': '2017-11-07T20:11:55.734Z',\n",
       "   'title': 'I Dined With Alwaleed in the Desert Days Before His Arrest',\n",
       "   'url': 'https://www.bloomberg.com/news/features/2017-11-07/i-dined-with-alwaleed-in-the-desert-days-before-his-arrest',\n",
       "   'urlToImage': 'https://assets.bwbx.io/images/users/iqjWHBFdfxIU/i91nkm2ekq1E/v3/1200x800.jpg'},\n",
       "  {'author': 'Mark Ellwood',\n",
       "   'description': 'Plus other counterintuitive travel hacks, from sustainability expert and Travel Channel host Philippe Cousteau.',\n",
       "   'publishedAt': '2017-11-08T13:38:07.784Z',\n",
       "   'title': 'Want to Stay Safe While Traveling? Wear a Rolex',\n",
       "   'url': 'https://www.bloomberg.com/news/articles/2017-11-08/want-to-stay-safe-while-traveling-wear-a-rolex',\n",
       "   'urlToImage': 'https://assets.bwbx.io/images/users/iqjWHBFdfxIU/ifyVSEVbtYh4/v0/1200x800.jpg'},\n",
       "  {'author': 'Rob Urban, Prashant Gopal',\n",
       "   'description': 'Out in the Hamptons, Wall Street’s favored beach resort on Long Island, brokers and buyers already have a workaround for a tax-plan provision under consideration in Congress that would take away the mortgage-interest deduction for second homes.',\n",
       "   'publishedAt': '2017-11-10T13:06:05.739Z',\n",
       "   'title': 'Hamptons Homebuyers Have Already Figured Out How to Game the Tax Plan',\n",
       "   'url': 'https://www.bloomberg.com/news/articles/2017-11-10/hamptons-homebuyers-already-figured-out-how-to-game-the-tax-plan',\n",
       "   'urlToImage': 'https://assets.bwbx.io/images/users/iqjWHBFdfxIU/ixvN7s4KYGLA/v1/1200x800.jpg'}],\n",
       " 'sortBy': 'top',\n",
       " 'source': 'bloomberg',\n",
       " 'status': 'ok'}"
      ]
     },
     "execution_count": 20,
     "metadata": {},
     "output_type": "execute_result"
    }
   ],
   "source": [
    "data"
   ]
  },
  {
   "cell_type": "code",
   "execution_count": 21,
   "metadata": {
    "collapsed": true
   },
   "outputs": [],
   "source": [
    "import json\n",
    "from pprint import pprint"
   ]
  },
  {
   "cell_type": "code",
   "execution_count": 22,
   "metadata": {},
   "outputs": [
    {
     "name": "stdout",
     "output_type": "stream",
     "text": [
      "{'articles': [{'author': 'Ilya Arkhipov, Jennifer Jacobs',\n",
      "               'description': '',\n",
      "               'publishedAt': '2017-11-12T04:36:19.014Z',\n",
      "               'title': 'Trump Says He Stands With Intel Agencies on Russia '\n",
      "                        'Meddling',\n",
      "               'url': 'https://www.bloomberg.com/news/articles/2017-11-12/trump-says-he-stands-with-intel-agencies-on-russia-meddling',\n",
      "               'urlToImage': 'https://assets.bwbx.io/images/users/iqjWHBFdfxIU/iI2yZYeRaiQ4/v1/1200x800.jpg'},\n",
      "              {'author': '',\n",
      "               'description': 'The U.S. Justice Department has suggested to '\n",
      "                              'AT&T Inc. officials that they figure out how to '\n",
      "                              'get the benefits they’re seeking from their '\n",
      "                              'proposed merger with Time Warner Inc. without '\n",
      "                              'being able to own CNN, TBS and other Turner '\n",
      "                              'channels, according to people familiar with the '\n",
      "                              'discussions.',\n",
      "               'publishedAt': '2017-11-12T00:49:08.096Z',\n",
      "               'title': 'U.S. Is Said to Suggest Ways AT&T Could Win Time '\n",
      "                        'Warner Approval',\n",
      "               'url': 'https://www.bloomberg.com/news/articles/2017-11-12/u-s-is-said-to-suggest-ways-at-t-could-win-time-warner-approval',\n",
      "               'urlToImage': 'https://assets.bwbx.io/images/users/iqjWHBFdfxIU/iwihJC9e62yk/v0/1200x800.jpg'},\n",
      "              {'author': 'Arit John, Laura Litvan',\n",
      "               'description': 'Roy Moore has Republicans pinned in a corner '\n",
      "                              'with no easy exit.',\n",
      "               'publishedAt': '2017-11-10T20:25:46.374Z',\n",
      "               'title': 'Moore Has Put Republican Leaders in a Bind',\n",
      "               'url': 'https://www.bloomberg.com/news/articles/2017-11-10/moore-has-put-republican-leaders-in-a-bind-with-no-easy-escape',\n",
      "               'urlToImage': 'https://assets.bwbx.io/images/users/iqjWHBFdfxIU/id_7HMjXhMFU/v1/1200x800.jpg'},\n",
      "              {'author': 'Isabel Reynolds',\n",
      "               'description': 'Japanese Prime Minister Shinzo Abe held a '\n",
      "                              'meeting with a Taiwanese politician Sunday, '\n",
      "                              'hours after Chinese President Xi Jinping warned '\n",
      "                              'him not to break with past consensus on what '\n",
      "                              'Beijing regards as a renegade province.',\n",
      "               'publishedAt': '2017-11-12T05:30:09.459Z',\n",
      "               'title': \"Japan's Abe Meets Taiwanese Lawmaker Hours After Xi \"\n",
      "                        'Warning',\n",
      "               'url': 'https://www.bloomberg.com/news/articles/2017-11-12/japan-s-abe-meets-taiwanese-lawmaker-hours-after-xi-warning',\n",
      "               'urlToImage': 'https://assets.bwbx.io/images/users/iqjWHBFdfxIU/ioq_WdPJf6jg/v1/1200x800.jpg'},\n",
      "              {'author': 'Jennifer Jacobs',\n",
      "               'description': 'U.S. President Donald Trump offered to help '\n",
      "                              'resolve territorial disputes in the South China '\n",
      "                              'Sea during a meeting with his Vietnamese '\n",
      "                              'counterpart in Hanoi.',\n",
      "               'publishedAt': '2017-11-12T05:03:16.105Z',\n",
      "               'title': 'Trump Offers to Broker Deal to Resolve South China '\n",
      "                        'Sea Dispute',\n",
      "               'url': 'https://www.bloomberg.com/news/articles/2017-11-12/trump-offers-to-broker-deal-to-resolve-south-china-sea-dispute',\n",
      "               'urlToImage': 'https://assets.bwbx.io/images/users/iqjWHBFdfxIU/ijzz_tdjJTjs/v1/1200x800.jpg'},\n",
      "              {'author': 'Jess Shankleman',\n",
      "               'description': 'Envoys from almost 200 countries are entering '\n",
      "                              'the final stretch of two weeks of talks aimed '\n",
      "                              'at defending and bolstering the global Paris '\n",
      "                              'Agreement on climate change.',\n",
      "               'publishedAt': '2017-11-12T05:01:00Z',\n",
      "               'title': 'Saudis, Coal, Defying Trump: Five Things to Watch at '\n",
      "                        'Bonn Climate Talks',\n",
      "               'url': 'https://www.bloomberg.com/news/articles/2017-11-12/saudis-coal-defying-trump-five-things-to-watch-at-cop23',\n",
      "               'urlToImage': 'https://assets.bwbx.io/images/users/iqjWHBFdfxIU/inqnS6N27ENk/v1/1200x818.jpg'},\n",
      "              {'author': 'Matthew Campbell, Franz Wild',\n",
      "               'description': 'The continent’s most important economy now '\n",
      "                              'appears to function for the benefit of one '\n",
      "                              'powerful family.',\n",
      "               'publishedAt': '2017-11-09T05:01:09.332Z',\n",
      "               'title': 'The Brothers Who Bought South Africa',\n",
      "               'url': 'https://www.bloomberg.com/news/features/2017-11-09/the-brothers-who-bought-south-africa',\n",
      "               'urlToImage': 'https://assets.bwbx.io/images/users/iqjWHBFdfxIU/iPSp_3SAf6.w/v0/1200x630.jpg'},\n",
      "              {'author': 'Erik Schatzker',\n",
      "               'description': 'Watching soccer, talking politics, with the '\n",
      "                              'billionaire Saudi prince',\n",
      "               'publishedAt': '2017-11-07T20:11:55.734Z',\n",
      "               'title': 'I Dined With Alwaleed in the Desert Days Before His '\n",
      "                        'Arrest',\n",
      "               'url': 'https://www.bloomberg.com/news/features/2017-11-07/i-dined-with-alwaleed-in-the-desert-days-before-his-arrest',\n",
      "               'urlToImage': 'https://assets.bwbx.io/images/users/iqjWHBFdfxIU/i91nkm2ekq1E/v3/1200x800.jpg'},\n",
      "              {'author': 'Mark Ellwood',\n",
      "               'description': 'Plus other counterintuitive travel hacks, from '\n",
      "                              'sustainability expert and Travel Channel host '\n",
      "                              'Philippe Cousteau.',\n",
      "               'publishedAt': '2017-11-08T13:38:07.784Z',\n",
      "               'title': 'Want to Stay Safe While Traveling? Wear a Rolex',\n",
      "               'url': 'https://www.bloomberg.com/news/articles/2017-11-08/want-to-stay-safe-while-traveling-wear-a-rolex',\n",
      "               'urlToImage': 'https://assets.bwbx.io/images/users/iqjWHBFdfxIU/ifyVSEVbtYh4/v0/1200x800.jpg'},\n",
      "              {'author': 'Rob Urban, Prashant Gopal',\n",
      "               'description': 'Out in the Hamptons, Wall Street’s favored '\n",
      "                              'beach resort on Long Island, brokers and buyers '\n",
      "                              'already have a workaround for a tax-plan '\n",
      "                              'provision under consideration in Congress that '\n",
      "                              'would take away the mortgage-interest deduction '\n",
      "                              'for second homes.',\n",
      "               'publishedAt': '2017-11-10T13:06:05.739Z',\n",
      "               'title': 'Hamptons Homebuyers Have Already Figured Out How to '\n",
      "                        'Game the Tax Plan',\n",
      "               'url': 'https://www.bloomberg.com/news/articles/2017-11-10/hamptons-homebuyers-already-figured-out-how-to-game-the-tax-plan',\n",
      "               'urlToImage': 'https://assets.bwbx.io/images/users/iqjWHBFdfxIU/ixvN7s4KYGLA/v1/1200x800.jpg'}],\n",
      " 'sortBy': 'top',\n",
      " 'source': 'bloomberg',\n",
      " 'status': 'ok'}\n"
     ]
    }
   ],
   "source": [
    "pprint(data)"
   ]
  },
  {
   "cell_type": "code",
   "execution_count": 31,
   "metadata": {},
   "outputs": [],
   "source": [
    "list = []\n",
    "for i in range(len(data[\"articles\"])):\n",
    "    list.append(data[\"articles\"][i][\"title\"])"
   ]
  },
  {
   "cell_type": "code",
   "execution_count": 32,
   "metadata": {},
   "outputs": [
    {
     "data": {
      "text/plain": [
       "['Trump Says He Stands With Intel Agencies on Russia Meddling',\n",
       " 'U.S. Is Said to Suggest Ways AT&T Could Win Time Warner Approval',\n",
       " 'Moore Has Put Republican Leaders in a Bind',\n",
       " \"Japan's Abe Meets Taiwanese Lawmaker Hours After Xi Warning\",\n",
       " 'Trump Offers to Broker Deal to Resolve South China Sea Dispute',\n",
       " 'Saudis, Coal, Defying Trump: Five Things to Watch at Bonn Climate Talks',\n",
       " 'The Brothers Who Bought South Africa',\n",
       " 'I Dined With Alwaleed in the Desert Days Before His Arrest',\n",
       " 'Want to Stay Safe While Traveling? Wear a Rolex',\n",
       " 'Hamptons Homebuyers Have Already Figured Out How to Game the Tax Plan']"
      ]
     },
     "execution_count": 32,
     "metadata": {},
     "output_type": "execute_result"
    }
   ],
   "source": [
    "list"
   ]
  },
  {
   "cell_type": "code",
   "execution_count": null,
   "metadata": {
    "collapsed": true
   },
   "outputs": [],
   "source": []
  }
 ],
 "metadata": {
  "kernelspec": {
   "display_name": "Python 3",
   "language": "python",
   "name": "python3"
  },
  "language_info": {
   "codemirror_mode": {
    "name": "ipython",
    "version": 3
   },
   "file_extension": ".py",
   "mimetype": "text/x-python",
   "name": "python",
   "nbconvert_exporter": "python",
   "pygments_lexer": "ipython3",
   "version": "3.6.1"
  }
 },
 "nbformat": 4,
 "nbformat_minor": 2
}
